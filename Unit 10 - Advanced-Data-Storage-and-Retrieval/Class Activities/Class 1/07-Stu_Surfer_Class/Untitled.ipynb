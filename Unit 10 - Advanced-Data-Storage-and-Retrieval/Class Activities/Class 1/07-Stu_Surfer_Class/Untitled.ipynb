{
 "cells": [
  {
   "cell_type": "code",
   "execution_count": 1,
   "metadata": {},
   "outputs": [],
   "source": [
    "class Surfer:\n",
    "    def __init__(self, name, hometown, rank):\n",
    "        self.name = name\n",
    "        self.hometown = hometown\n",
    "        self.rank = rank\n"
   ]
  },
  {
   "cell_type": "code",
   "execution_count": 2,
   "metadata": {},
   "outputs": [],
   "source": [
    "instance = Surfer(\"Vince\",\"Changzhou\",1)\n",
    "print(instance.name)"
   ]
  },
  {
   "cell_type": "code",
   "execution_count": 4,
   "metadata": {},
   "outputs": [
    {
     "name": "stdout",
     "output_type": "stream",
     "text": [
      "input the name:ss\n",
      "input the hometown:sss\n",
      "input the rank:ssss\n",
      "ssss\n",
      "do you want to continue: y/ny\n",
      "input the name:n\n",
      "input the hometown:a\n",
      "input the rank:s\n",
      "s\n",
      "do you want to continue: y/nn\n"
     ]
    }
   ],
   "source": [
    "inputs = \"y\"\n",
    "while inputs == \"y\":\n",
    "    input1 = input(\"input the name:\")\n",
    "    input2 = input(\"input the hometown:\")\n",
    "    input3 = input(\"input the rank:\")\n",
    "    instance = Surfer(input1, input2, input3)\n",
    "    print(instance.rank)\n",
    "    inputs = input(\"do you want to continue: y/n\")"
   ]
  },
  {
   "cell_type": "code",
   "execution_count": null,
   "metadata": {},
   "outputs": [],
   "source": []
  }
 ],
 "metadata": {
  "kernelspec": {
   "display_name": "Python 3",
   "language": "python",
   "name": "python3"
  },
  "language_info": {
   "codemirror_mode": {
    "name": "ipython",
    "version": 3
   },
   "file_extension": ".py",
   "mimetype": "text/x-python",
   "name": "python",
   "nbconvert_exporter": "python",
   "pygments_lexer": "ipython3",
   "version": "3.7.3"
  }
 },
 "nbformat": 4,
 "nbformat_minor": 2
}
