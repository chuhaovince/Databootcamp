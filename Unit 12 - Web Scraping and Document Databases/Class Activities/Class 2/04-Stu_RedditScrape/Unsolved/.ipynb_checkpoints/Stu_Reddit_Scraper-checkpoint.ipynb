{
 "cells": [
  {
   "cell_type": "code",
   "execution_count": 1,
   "metadata": {},
   "outputs": [],
   "source": [
    "# Dependencies\n",
    "from bs4 import BeautifulSoup\n",
    "import requests\n",
    "import os"
   ]
  },
  {
   "cell_type": "code",
   "execution_count": null,
   "metadata": {},
   "outputs": [],
   "source": [
    "# URL of Python reddit\n",
    "# url = 'https://www.reddit.com/r/Python/'\n",
    "# url = 'https://www.reddit.com/r/ProgrammingHumor/'"
   ]
  },
  {
   "cell_type": "code",
   "execution_count": null,
   "metadata": {},
   "outputs": [],
   "source": [
    "# Retrieve page with the requests module\n",
    "# html = requests.get(url)"
   ]
  },
  {
   "cell_type": "code",
   "execution_count": 2,
   "metadata": {},
   "outputs": [],
   "source": [
    "filepath = os.path.join(\"Programmer-Humor.html\")\n",
    "with open(filepath, encoding='utf-8') as file:\n",
    "    html = file.read()"
   ]
  },
  {
   "cell_type": "code",
   "execution_count": 15,
   "metadata": {},
   "outputs": [],
   "source": [
    "# Create BeautifulSoup object; parse with 'html.parser'\n",
    "soup = BeautifulSoup(html, 'html.parser')"
   ]
  },
  {
   "cell_type": "code",
   "execution_count": 21,
   "metadata": {},
   "outputs": [
    {
     "data": {
      "text/plain": [
       "'422,381'"
      ]
     },
     "execution_count": 21,
     "metadata": {},
     "output_type": "execute_result"
    }
   ],
   "source": [
    "# Find the number of subscribers\n",
    "subs = soup.find(\"span\",class_ = \"number\")\n",
    "subs.text"
   ]
  },
  {
   "cell_type": "code",
   "execution_count": 36,
   "metadata": {},
   "outputs": [
    {
     "name": "stdout",
     "output_type": "stream",
     "text": [
      "Hi, I’m Mike, an engineer at Triplebyte. Talk with me or one of the other interviewers here over Google Hangouts. We'll personally match you to top tech companies and hundreds of the most exciting startups. We're re-engineering the technical job search. Take our online coding quiz to begin. (triplebyte.com) no comment https://pixel.redditmedia.com/click?url=https%3A%2F%2Fengine.a.redditmedia.com%2Fr%3Fe%3DeyJhdiI6MjU1NDE0LCJhdCI6NCwiYnQiOjAsImNtIjo2MTA2NjMsImNoIjo3OTg0LCJjayI6e30sImNyIjozOTYwMjMwLCJkaSI6ImRmNTYwN2M1OThmYzRlY2U4NjllNzU2ZWRhM2RiM2Y2IiwiZGoiOjAsImlpIjoiMzlkZTQ2MDA2OWIzNGJhYmE3ZWEzOGYxZWRmZTY3N2YiLCJkbSI6MywiZmMiOjY0ODEyMzYsImZsIjo2NDE0NDc5LCJpcCI6IjY3LjExLjE2LjEzMiIsIm1rIjoicHJvZ3JhbW1lcmh1bW9yIiwibnciOjUxNDYsInBjIjoxMCwiZHAiOjIuMDEsImVjIjoxMCwicHIiOjg0NTM2LCJydCI6MiwicnMiOjUwMCwic2EiOiIxMSIsInNiIjoiaS0wNzQyZDUyZjMzM2ZlYjRhOCIsInNwIjoxNzEzLCJzdCI6MjQ5NTAsInVrIjoibWxtanR1dCIsInRzIjoxNTE1ODA3MTAzNTE5LCJwbiI6ImRpdl9mZWVkIiwidXIiOiJodHRwczovL3RyaXBsZWJ5dGUuY29tLz9yZWY9cl9vY3QxN190MV9taWtlIn0%26s%3DVgug4YAw90InoDrrS9zyXwnELlM&unused=reddit.com&hash=89484e5db6c5c8573f561646a1b1632b0a10e77b&id=t3_75ysab-__REDDIT_AD_SERVER__-ProgrammerHumor\n",
      "[Meta] Clarification on rules (self.ProgrammerHumor) 79 comments https://www.reddit.com/r/ProgrammerHumor/comments/6y2b47/meta_clarification_on_rules/\n",
      "Doing conditionals (i.redd.it) 258 comments https://i.redd.it/l30xm2f4nm901.jpg\n",
      "Perfect date (i.redd.it) 58 comments https://i.redd.it/o9qnfxubto901.jpg\n",
      "The truth about java. (i.redd.it) 61 comments https://i.redd.it/2wr3vv11xn901.jpg\n",
      "Interviewing a Data Scientist (i.redd.it) 7 comments https://i.redd.it/cl50prg7hn901.png\n",
      "An Iphone found on a body of an worker from the bug reporting department for Visual Studio (i.redd.it) 17 comments https://i.redd.it/vel0pgsp3o901.jpg\n",
      "Google has the original programmer humour jokes. (i.redd.it) 8 comments https://i.redd.it/danzympxjp901.png\n",
      "Parser-Tongue (i.imgur.com) 8 comments https://i.imgur.com/f62NCWr.png\n",
      "How to fix production bug in a party (i.redd.it) 5 comments https://i.redd.it/rraecwckep901.jpg\n",
      "Scratch for professionals (i.redd.it) 17 comments https://i.redd.it/uu7brc9qso901.png\n",
      "Start them off early (i.redd.it) 9 comments https://i.redd.it/0rs85yojom901.jpg\n",
      "Somebody coded a picture of Guy Fieri into a Babel library (i.redd.it) 9 comments https://i.redd.it/hoy6o8cjvn901.jpg\n",
      "God damnit, just compile. You know I meant to put a semicolon there. You even said you're expecting it. (self.ProgrammerHumor) 6 comments https://www.reddit.com/r/ProgrammerHumor/comments/7q00ns/god_damnit_just_compile_you_know_i_meant_to_put_a/\n",
      "We got new phones at work and we can set custom backgrounds (i.imgur.com) 5 comments https://i.imgur.com/8vLoOup.jpg\n",
      "Spotted in Subway Station (i.redd.it) 9 comments https://i.redd.it/8ppp91rqxo901.jpg\n",
      "beatles.js (i.redd.it) 4 comments https://i.redd.it/udix79kv9n901.png\n",
      "An eternity later.... (i.redd.it) 5 comments https://i.redd.it/klluy4lhcp901.jpg\n",
      "It all makes sense now. (i.imgur.com) 341 comments https://i.imgur.com/7ew4zCQ.png\n",
      "This is where US's bandwidth going. (i.redd.it) 20 comments https://i.redd.it/miwjerjy9l901.png\n",
      "cool sign (i.redd.it) 2 comments https://i.redd.it/tzo6wdey8q901.jpg\n",
      "That's a lot of commits (i.redd.it) 1 comment https://i.redd.it/c6vpzdtnbp901.jpg\n",
      "Arrays start at 0. (i.imgur.com) 15 comments https://i.imgur.com/1PpNQz6.jpg\n",
      "Sassy destructor (i.redd.it) 5 comments https://i.redd.it/l0hueph7xo901.png\n",
      "Well, that's one way to do it I guess (i.redd.it) 13 comments https://i.redd.it/31tr6ekduo901.png\n",
      "Unit testing but 0 integration testing (imgur.com) 1 comment https://imgur.com/a/1a7RX\n",
      "no arguments (i.redd.it) 4 comments https://i.redd.it/61gmmmlk7q901.jpg\n"
     ]
    }
   ],
   "source": [
    "# Examine the results, then determine element that contains sought info\n",
    "# results are returned as an iterable list\n",
    "comments = soup.find_all(\"div\", class_=\"top-matter\")\n",
    "for item in comments:\n",
    "    title = item.find(\"p\", class_=\"title\").text\n",
    "    try:\n",
    "        comments = item.find(\"li\", class_ = \"first\").text\n",
    "    except:\n",
    "        comments = \"no comment\"\n",
    "    link = item.a[\"href\"]\n",
    "    print(title, comments, link)\n",
    "    "
   ]
  },
  {
   "cell_type": "code",
   "execution_count": null,
   "metadata": {},
   "outputs": [],
   "source": [
    "# Loop through returned results\n",
    "    \n",
    "    # Retrieve the thread title\n",
    "    \n",
    "    \n",
    "    # Access the thread's text content\n",
    "\n",
    "    try:\n",
    "        # Access the thread with CSS selectors\n",
    "\n",
    "        # The number of comments made in the thread\n",
    "\n",
    "        # Parse string, e.g. '47 comments' for possible numeric manipulation\n",
    "\n",
    "        # Access the href attribute with bracket notation\n",
    "\n",
    "        # Run if the thread has comments\n",
    "        if (comments_num):\n",
    "            print('\\n-----------------\\n')\n",
    "            print(title_text)\n",
    "            print('Comments:', comments_num)\n",
    "            print(link)\n",
    "    except AttributeError as e:\n",
    "        print(e)"
   ]
  }
 ],
 "metadata": {
  "kernelspec": {
   "display_name": "Python 3",
   "language": "python",
   "name": "python3"
  },
  "language_info": {
   "codemirror_mode": {
    "name": "ipython",
    "version": 3
   },
   "file_extension": ".py",
   "mimetype": "text/x-python",
   "name": "python",
   "nbconvert_exporter": "python",
   "pygments_lexer": "ipython3",
   "version": "3.7.3"
  },
  "varInspector": {
   "cols": {
    "lenName": 16,
    "lenType": 16,
    "lenVar": 40
   },
   "kernels_config": {
    "python": {
     "delete_cmd_postfix": "",
     "delete_cmd_prefix": "del ",
     "library": "var_list.py",
     "varRefreshCmd": "print(var_dic_list())"
    },
    "r": {
     "delete_cmd_postfix": ") ",
     "delete_cmd_prefix": "rm(",
     "library": "var_list.r",
     "varRefreshCmd": "cat(var_dic_list()) "
    }
   },
   "types_to_exclude": [
    "module",
    "function",
    "builtin_function_or_method",
    "instance",
    "_Feature"
   ],
   "window_display": false
  }
 },
 "nbformat": 4,
 "nbformat_minor": 2
}
