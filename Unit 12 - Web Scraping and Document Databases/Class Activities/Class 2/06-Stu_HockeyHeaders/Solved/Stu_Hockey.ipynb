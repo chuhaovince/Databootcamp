{
 "cells": [
  {
   "cell_type": "code",
   "execution_count": 1,
   "metadata": {},
   "outputs": [],
   "source": [
    "# Dependencies\n",
    "from bs4 import BeautifulSoup\n",
    "import requests\n",
    "import pymongo"
   ]
  },
  {
   "cell_type": "code",
   "execution_count": 2,
   "metadata": {},
   "outputs": [],
   "source": [
    "# Initialize PyMongo to work with MongoDBs\n",
    "conn = 'mongodb://localhost:27017'\n",
    "client = pymongo.MongoClient(conn)"
   ]
  },
  {
   "cell_type": "code",
   "execution_count": 3,
   "metadata": {},
   "outputs": [],
   "source": [
    "# Define database and collection\n",
    "db = client.nhl_db\n",
    "collection = db.articles"
   ]
  },
  {
   "cell_type": "code",
   "execution_count": 4,
   "metadata": {},
   "outputs": [],
   "source": [
    "# URL of page to be scraped\n",
    "url = 'https://www.nhl.com/news'\n",
    "\n",
    "# Retrieve page with the requests module\n",
    "response = requests.get(url)\n",
    "# Create BeautifulSoup object; parse with 'lxml'\n",
    "soup = BeautifulSoup(response.text, 'lxml')"
   ]
  },
  {
   "cell_type": "code",
   "execution_count": 5,
   "metadata": {},
   "outputs": [
    {
     "name": "stdout",
     "output_type": "stream",
     "text": [
      "-----------------\n",
      "DeBoer fired as Sharks coach\n",
      "San Jose has lost five straight games; assistant Boughner will take over\n",
      "2019-12-11\n",
      "-----------------\n",
      "Oshie scores twice in Capitals win against Bruins\n",
      "Carlson breaks tie in third period in matchup of NHL's top two teams\n",
      "2019-12-11\n",
      "-----------------\n",
      "Bruins frustrated after yet another loss to Capitals\n",
      "One win in past 17 games against rival leaves Boston searching for answers\n",
      "2019-12-12\n",
      "-----------------\n",
      "Rantanen scores two goals for Avalanche in win against Flyers\n",
      "Francouz makes 32 saves for Colorado, which is 7-0-1 during eight-game point streak\n",
      "2019-12-12\n",
      "-----------------\n",
      "Fantasy goalie top 25 rankings for 2019-20\n",
      "Rittich among biggest risers; Jarry, Georgiev, Ullmark emerging as starters\n",
      "2019-12-11\n",
      "-----------------\n",
      "Super 16: Flames rise in power rankings\n",
      "Capitals jump over Bruins for No. 1; Avalanche, Hurricanes each climb three spots\n",
      "2019-12-12\n",
      "-----------------\n",
      "Canadiens top Senators in OT for Primeau's first NHL win\n",
      "Makes 35 saves; Chiarot goal gives Montreal third straight victory\n",
      "2019-12-12\n",
      "-----------------\n",
      "Bettman's efforts to grow game earn him spot in U.S. Hockey Hall of Fame\n",
      "NHL Commissioner lauded for expanding League's footprint across country\n",
      "2019-12-12\n",
      "-----------------\n",
      "Thornton reached numerous milestones on way to 1,600th NHL game\n",
      "Sharks forward has surpassed 400 goals, 1,000 assists, 1,400 points during 22 seasons\n",
      "2019-12-12\n",
      "-----------------\n",
      "NHL DFS picks, projections, strategy\n",
      "Rust worth stacking with Malkin against Blue Jackets; more daily fantasy targets\n",
      "2019-12-12\n",
      "-----------------\n",
      "Jets' revamped defense coming up big\n",
      "Zettler says unsung group key component of Winnipeg's success\n",
      "2019-12-12\n",
      "-----------------\n",
      "U.S. Hockey Hall of Fame inductees honored before Capitals-Bruins game\n",
      "Thomas, Gionta, Wendell-Pohl, Henderson participate in ceremonial puck drop\n",
      "2019-12-11\n",
      "-----------------\n",
      "Mailbag: Stars' chances to make playoffs\n",
      "NHL.com's Dan Rosen answers weekly questions\n",
      "2019-12-11\n",
      "-----------------\n",
      "Lapointe, Hall of Fame defenseman, diagnosed with oral cancer\n",
      "Member of Canadiens' 'Big Three' during 1970s has form of disease with high cure rate\n",
      "2019-12-11\n",
      "-----------------\n",
      "Fantasy defenseman top 50 rankings for 2019-20\n",
      "Pionk brings power-play exposure for Jets; Dahlin rejoins list ahead of upcoming return\n",
      "2019-12-10\n",
      "-----------------\n",
      "2020 Draft: Holtz showcasing dynamic offensive skills\n",
      "Djurgarden forward could be top-five pick, star for Sweden at 2020 World Junior Championship\n",
      "2019-12-12\n",
      "-----------------\n",
      "NHL working with NHLPA to bring back World Cup of Hockey\n",
      "Holding 'serious, specific discussions,' no timeline set\n",
      "2019-12-10\n",
      "-----------------\n",
      "Stanley Cup gets warm welcome at NHL's Montreal office\n",
      "Hockey's ultimate prize drops in for first visit since November 1990\n",
      "2019-12-11\n",
      "-----------------\n",
      "Canada keeping roster plan consistent for 2020 World Junior Championship\n",
      "Not letting disappointing 2019 result alter approach to building group with scoring depth, high competitiveness, hockey IQ\n",
      "2019-12-11\n",
      "-----------------\n",
      "Fantasy forward top 100 rankings for 2019-20\n",
      "Canucks have five on list with Pearson joining; Eichel among 10 best for first time\n",
      "2019-12-09\n",
      "-----------------\n",
      "Bemstrom out 6-8 weeks for Blue Jackets with dislocated rib\n",
      "20-year-old rookie forward injured during loss at Panthers\n",
      "2019-12-11\n",
      "-----------------\n",
      "Thomas battled way to U.S. Hockey Hall of Fame\n",
      "Played on seven teams across five leagues before sticking with Bruins as 31-year-old goalie\n",
      "2019-12-11\n",
      "-----------------\n",
      "Bowness gets opportunity with Stars, wins first game\n",
      "Coached five other NHL teams, was assistant before replacing fired Montgomery\n",
      "2019-12-10\n",
      "-----------------\n",
      "AHL Notebook: Western Conference forwards in spotlight\n",
      "Flames prospects Phillips, Gawdin among those with potential to play in NHL\n",
      "2019-12-11\n",
      "-----------------\n",
      "NHL Fantasy on Ice podcast available now\n",
      "Impact of Stars' coaching change on forward group, Flames resurgence, DFS picks, best bets\n",
      "2019-12-10\n",
      "-----------------\n",
      "Ovechkin brings smiles to special-needs players\n",
      "'That's what it's all about,' Capitals captain says after annual skating session\n",
      "2019-12-10\n",
      "-----------------\n",
      "NHL speeding up plan focused on culture, inclusion\n",
      "Initiative has been in works for more than year, executive VP Davis says\n",
      "2019-12-10\n",
      "-----------------\n",
      "Voices from the Past: Frank Boucher\n",
      "Hall of Famer discusses winning Cup as player, coach with pre-World War II Rangers\n",
      "2019-12-11\n",
      "-----------------\n",
      "Dahlin making strides in return to Sabres following concussion\n",
      "Defenseman practices, feels 'a lot better,' but doesn't have timetable to rejoin lineup\n",
      "2019-12-10\n",
      "-----------------\n",
      "Dec. 12: Richard becomes NHL all-time leader in points\n",
      "Plus: Roy moves into third place on wins list; Lemieux scores four goals\n",
      "2019-12-12\n"
     ]
    }
   ],
   "source": [
    "# Retrieve the parent divs for all articles\n",
    "results = soup.find_all('div', class_='article-item__top')\n",
    "\n",
    "# loop over results to get article data\n",
    "for result in results:\n",
    "    # scrape the article header \n",
    "    header = result.find('h1', class_='article-item__headline').text\n",
    "    \n",
    "    # scrape the article subheader\n",
    "    subheader = result.find('h2', class_='article-item__subheader').text\n",
    "    \n",
    "    # scrape the datetime\n",
    "    datetime = result.find('span', class_='article-item__date')['data-date'] \n",
    "    \n",
    "    # get only the date from the datetime\n",
    "    date = datetime.split('T')[0]\n",
    "    \n",
    "    # print article data\n",
    "    print('-----------------')\n",
    "    print(header)\n",
    "    print(subheader)\n",
    "    print(date)\n",
    "\n",
    "    # Dictionary to be inserted into MongoDB\n",
    "    post = {\n",
    "        'header': header,\n",
    "        'subheader': subheader,\n",
    "        'date': date,\n",
    "    }\n",
    "\n",
    "    # Insert dictionary into MongoDB as a document\n",
    "    collection.insert_one(post)"
   ]
  },
  {
   "cell_type": "code",
   "execution_count": 9,
   "metadata": {},
   "outputs": [
    {
     "name": "stdout",
     "output_type": "stream",
     "text": [
      "_id\n",
      "header\n",
      "subheader\n",
      "date\n",
      "{'_id': ObjectId('5df1e0b93b196b6cf7e44f54'), 'header': 'DeBoer fired as Sharks coach', 'subheader': 'San Jose has lost five straight games; assistant Boughner will take over', 'date': '2019-12-11'}\n"
     ]
    }
   ],
   "source": [
    "# Display the MongoDB records created above\n",
    "articles = db.articles.find()\n",
    "for article in articles:\n",
    "    print(article)\n",
    "print(articles)"
   ]
  },
  {
   "cell_type": "code",
   "execution_count": null,
   "metadata": {},
   "outputs": [],
   "source": []
  }
 ],
 "metadata": {
  "kernelspec": {
   "display_name": "Python 3",
   "language": "python",
   "name": "python3"
  },
  "language_info": {
   "codemirror_mode": {
    "name": "ipython",
    "version": 3
   },
   "file_extension": ".py",
   "mimetype": "text/x-python",
   "name": "python",
   "nbconvert_exporter": "python",
   "pygments_lexer": "ipython3",
   "version": "3.7.3"
  },
  "varInspector": {
   "cols": {
    "lenName": 16,
    "lenType": 16,
    "lenVar": 40
   },
   "kernels_config": {
    "python": {
     "delete_cmd_postfix": "",
     "delete_cmd_prefix": "del ",
     "library": "var_list.py",
     "varRefreshCmd": "print(var_dic_list())"
    },
    "r": {
     "delete_cmd_postfix": ") ",
     "delete_cmd_prefix": "rm(",
     "library": "var_list.r",
     "varRefreshCmd": "cat(var_dic_list()) "
    }
   },
   "types_to_exclude": [
    "module",
    "function",
    "builtin_function_or_method",
    "instance",
    "_Feature"
   ],
   "window_display": false
  }
 },
 "nbformat": 4,
 "nbformat_minor": 2
}
