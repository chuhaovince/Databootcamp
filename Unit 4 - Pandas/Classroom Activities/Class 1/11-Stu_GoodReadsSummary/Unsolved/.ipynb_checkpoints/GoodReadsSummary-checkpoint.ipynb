{
 "cells": [
  {
   "cell_type": "code",
   "execution_count": 1,
   "metadata": {},
   "outputs": [],
   "source": [
    "# Import Dependencies\n",
    "import pandas as pd"
   ]
  },
  {
   "cell_type": "code",
   "execution_count": 3,
   "metadata": {},
   "outputs": [
    {
     "name": "stdout",
     "output_type": "stream",
     "text": [
      "        ISBN  Publication Year                            Original Title  \\\n",
      "0  439023483            2008.0                          The Hunger Games   \n",
      "1  439554934            1997.0  Harry Potter and the Philosopher's Stone   \n",
      "2  316015849            2005.0                                  Twilight   \n",
      "3   61120081            1960.0                     To Kill a Mockingbird   \n",
      "4  743273567            1925.0                          The Great Gatsby   \n",
      "\n",
      "                       Authors  One Star Reviews  Two Star Reviews  \\\n",
      "0              Suzanne Collins             66715            127936   \n",
      "1  J.K. Rowling, Mary GrandPré             75504            101676   \n",
      "2              Stephenie Meyer            456191            436802   \n",
      "3                   Harper Lee             60427            117415   \n",
      "4          F. Scott Fitzgerald             86236            197621   \n",
      "\n",
      "   Three Star Reviews  Four Star Reviews  Five Star Reviews  \n",
      "0              560092            1481305            2706317  \n",
      "1              455024            1156318            3011543  \n",
      "2              793319             875073            1355439  \n",
      "3              446835            1001952            1714267  \n",
      "4              606158             936012             947718  \n"
     ]
    }
   ],
   "source": [
    "# File to Load\n",
    "books_clean = pd.read_csv(\"Resources\\\\books_clean.csv\", encoding = \"utf8\")\n",
    "# Read the modified GoodReads csv and store into Pandas DataFrame\n",
    "print(books_clean.head())"
   ]
  },
  {
   "cell_type": "code",
   "execution_count": 7,
   "metadata": {},
   "outputs": [
    {
     "name": "stdout",
     "output_type": "stream",
     "text": [
      "-1750.0 2017.0\n"
     ]
    }
   ],
   "source": [
    "# Calculate the number of unique authors in the DataFrame\n",
    "num_of_unique_authors = len(books_clean[\"Authors\"].unique())\n",
    "\n",
    "# Calculate the earliest/latest year a book was published\n",
    "earliest_year = books_clean[\"Publication Year\"].min()\n",
    "latest_year = books_clean[\"Publication Year\"].max()\n",
    "print(earliest_year, latest_year)\n",
    "# Calculate the total reviews for the entire dataset\n",
    "\n",
    "# Hint: use the pandas' sum() method to get the sum for each row\n"
   ]
  },
  {
   "cell_type": "code",
   "execution_count": null,
   "metadata": {},
   "outputs": [],
   "source": [
    "# Place all of the data found into a summary DataFrame"
   ]
  }
 ],
 "metadata": {
  "kernelspec": {
   "display_name": "Python 3",
   "language": "python",
   "name": "python3"
  },
  "language_info": {
   "codemirror_mode": {
    "name": "ipython",
    "version": 3
   },
   "file_extension": ".py",
   "mimetype": "text/x-python",
   "name": "python",
   "nbconvert_exporter": "python",
   "pygments_lexer": "ipython3",
   "version": "3.7.3"
  }
 },
 "nbformat": 4,
 "nbformat_minor": 2
}
