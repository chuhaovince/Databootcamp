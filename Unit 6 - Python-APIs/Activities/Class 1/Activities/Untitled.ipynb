{
 "cells": [
  {
   "cell_type": "code",
   "execution_count": 19,
   "metadata": {},
   "outputs": [],
   "source": [
    "import requests\n",
    "import json\n",
    "from config import omdbapikey\n",
    "url = \"http://www.omdbapi.com/?t=Aliens\"\n",
    "api = \"f67a4604\"\n"
   ]
  },
  {
   "cell_type": "code",
   "execution_count": 20,
   "metadata": {},
   "outputs": [],
   "source": [
    "response = requests.get(url+\"&apikey=\" +omdbapikey).json()"
   ]
  },
  {
   "cell_type": "code",
   "execution_count": 21,
   "metadata": {},
   "outputs": [
    {
     "data": {
      "text/plain": [
       "'James Cameron'"
      ]
     },
     "execution_count": 21,
     "metadata": {},
     "output_type": "execute_result"
    }
   ],
   "source": [
    "response[\"Director\"]"
   ]
  },
  {
   "cell_type": "code",
   "execution_count": 22,
   "metadata": {},
   "outputs": [],
   "source": [
    "titles=[\"Joker\",\"aliens\",\"Titanic\"]"
   ]
  },
  {
   "cell_type": "code",
   "execution_count": 27,
   "metadata": {},
   "outputs": [],
   "source": [
    "movie=[]\n",
    "url = \"http://www.omdbapi.com/?apikey=\"\n",
    "for title in titles:\n",
    "    response = movie.append(requests.get(url+omdbapikey+\"&t=\"+title).json())"
   ]
  },
  {
   "cell_type": "code",
   "execution_count": 28,
   "metadata": {},
   "outputs": [
    {
     "data": {
      "text/plain": [
       "[{'Title': 'Joker',\n",
       "  'Year': '2019',\n",
       "  'Rated': 'R',\n",
       "  'Released': '04 Oct 2019',\n",
       "  'Runtime': '122 min',\n",
       "  'Genre': 'Crime, Drama, Thriller',\n",
       "  'Director': 'Todd Phillips',\n",
       "  'Writer': 'Todd Phillips, Scott Silver, Bob Kane (based on characters created by), Bill Finger (based on characters created by), Jerry Robinson (based on characters created by)',\n",
       "  'Actors': 'Joaquin Phoenix, Robert De Niro, Zazie Beetz, Frances Conroy',\n",
       "  'Plot': 'In Gotham City, mentally-troubled comedian Arthur Fleck is disregarded and mistreated by society. He then embarks on a downward spiral of revolution and bloody crime. This path brings him face-to-face with his alter-ego: \"The Joker\".',\n",
       "  'Language': 'English',\n",
       "  'Country': 'USA, Canada',\n",
       "  'Awards': 'N/A',\n",
       "  'Poster': 'https://m.media-amazon.com/images/M/MV5BNGVjNWI4ZGUtNzE0MS00YTJmLWE0ZDctN2ZiYTk2YmI3NTYyXkEyXkFqcGdeQXVyMTkxNjUyNQ@@._V1_SX300.jpg',\n",
       "  'Ratings': [{'Source': 'Internet Movie Database', 'Value': '8.9/10'},\n",
       "   {'Source': 'Rotten Tomatoes', 'Value': '68%'},\n",
       "   {'Source': 'Metacritic', 'Value': '59/100'}],\n",
       "  'Metascore': '59',\n",
       "  'imdbRating': '8.9',\n",
       "  'imdbVotes': '360,218',\n",
       "  'imdbID': 'tt7286456',\n",
       "  'Type': 'movie',\n",
       "  'DVD': 'N/A',\n",
       "  'BoxOffice': 'N/A',\n",
       "  'Production': 'Warner Bros. Pictures',\n",
       "  'Website': 'N/A',\n",
       "  'Response': 'True'},\n",
       " {'Title': 'Aliens',\n",
       "  'Year': '1986',\n",
       "  'Rated': 'R',\n",
       "  'Released': '18 Jul 1986',\n",
       "  'Runtime': '137 min',\n",
       "  'Genre': 'Action, Adventure, Sci-Fi, Thriller',\n",
       "  'Director': 'James Cameron',\n",
       "  'Writer': \"James Cameron (story by), David Giler (story by), Walter Hill (story by), Dan O'Bannon (based on characters created by), Ronald Shusett (based on characters created by), James Cameron (screenplay by)\",\n",
       "  'Actors': 'Sigourney Weaver, Carrie Henn, Michael Biehn, Paul Reiser',\n",
       "  'Plot': 'Ellen Ripley is rescued by a deep salvage team after being in hypersleep for 57 years. The moon that the Nostromo visited has been colonized, but contact is lost. This time, colonial marines have impressive firepower, but will that be enough?',\n",
       "  'Language': 'English',\n",
       "  'Country': 'USA, UK',\n",
       "  'Awards': 'Won 2 Oscars. Another 18 wins & 22 nominations.',\n",
       "  'Poster': 'https://m.media-amazon.com/images/M/MV5BZGU2OGY5ZTYtMWNhYy00NjZiLWI0NjUtZmNhY2JhNDRmODU3XkEyXkFqcGdeQXVyNzkwMjQ5NzM@._V1_SX300.jpg',\n",
       "  'Ratings': [{'Source': 'Internet Movie Database', 'Value': '8.4/10'},\n",
       "   {'Source': 'Rotten Tomatoes', 'Value': '99%'},\n",
       "   {'Source': 'Metacritic', 'Value': '84/100'}],\n",
       "  'Metascore': '84',\n",
       "  'imdbRating': '8.4',\n",
       "  'imdbVotes': '613,004',\n",
       "  'imdbID': 'tt0090605',\n",
       "  'Type': 'movie',\n",
       "  'DVD': '01 Jun 1999',\n",
       "  'BoxOffice': 'N/A',\n",
       "  'Production': '20th Century Fox',\n",
       "  'Website': 'N/A',\n",
       "  'Response': 'True'},\n",
       " {'Title': 'Titanic',\n",
       "  'Year': '1997',\n",
       "  'Rated': 'PG-13',\n",
       "  'Released': '19 Dec 1997',\n",
       "  'Runtime': '194 min',\n",
       "  'Genre': 'Drama, Romance',\n",
       "  'Director': 'James Cameron',\n",
       "  'Writer': 'James Cameron',\n",
       "  'Actors': 'Leonardo DiCaprio, Kate Winslet, Billy Zane, Kathy Bates',\n",
       "  'Plot': 'A seventeen-year-old aristocrat falls in love with a kind but poor artist aboard the luxurious, ill-fated R.M.S. Titanic.',\n",
       "  'Language': 'English, Swedish, Italian',\n",
       "  'Country': 'USA',\n",
       "  'Awards': 'Won 11 Oscars. Another 111 wins & 77 nominations.',\n",
       "  'Poster': 'https://m.media-amazon.com/images/M/MV5BMDdmZGU3NDQtY2E5My00ZTliLWIzOTUtMTY4ZGI1YjdiNjk3XkEyXkFqcGdeQXVyNTA4NzY1MzY@._V1_SX300.jpg',\n",
       "  'Ratings': [{'Source': 'Internet Movie Database', 'Value': '7.8/10'},\n",
       "   {'Source': 'Rotten Tomatoes', 'Value': '89%'},\n",
       "   {'Source': 'Metacritic', 'Value': '75/100'}],\n",
       "  'Metascore': '75',\n",
       "  'imdbRating': '7.8',\n",
       "  'imdbVotes': '973,565',\n",
       "  'imdbID': 'tt0120338',\n",
       "  'Type': 'movie',\n",
       "  'DVD': '10 Sep 2012',\n",
       "  'BoxOffice': 'N/A',\n",
       "  'Production': 'Paramount Pictures',\n",
       "  'Website': 'N/A',\n",
       "  'Response': 'True'}]"
      ]
     },
     "execution_count": 28,
     "metadata": {},
     "output_type": "execute_result"
    }
   ],
   "source": [
    "movie"
   ]
  },
  {
   "cell_type": "code",
   "execution_count": null,
   "metadata": {},
   "outputs": [],
   "source": []
  }
 ],
 "metadata": {
  "kernelspec": {
   "display_name": "Python 3",
   "language": "python",
   "name": "python3"
  },
  "language_info": {
   "codemirror_mode": {
    "name": "ipython",
    "version": 3
   },
   "file_extension": ".py",
   "mimetype": "text/x-python",
   "name": "python",
   "nbconvert_exporter": "python",
   "pygments_lexer": "ipython3",
   "version": "3.7.3"
  }
 },
 "nbformat": 4,
 "nbformat_minor": 2
}
