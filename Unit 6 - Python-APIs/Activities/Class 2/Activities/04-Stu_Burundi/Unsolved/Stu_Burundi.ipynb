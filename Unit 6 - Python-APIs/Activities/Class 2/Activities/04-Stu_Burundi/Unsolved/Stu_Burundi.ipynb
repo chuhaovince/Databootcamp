{
 "cells": [
  {
   "cell_type": "code",
   "execution_count": 1,
   "metadata": {},
   "outputs": [
    {
     "ename": "ModuleNotFoundError",
     "evalue": "No module named 'pyOWM'",
     "output_type": "error",
     "traceback": [
      "\u001b[1;31m---------------------------------------------------------------------------\u001b[0m",
      "\u001b[1;31mModuleNotFoundError\u001b[0m                       Traceback (most recent call last)",
      "\u001b[1;32m<ipython-input-1-08217519a02b>\u001b[0m in \u001b[0;36m<module>\u001b[1;34m\u001b[0m\n\u001b[0;32m      3\u001b[0m \u001b[1;32mfrom\u001b[0m \u001b[0mconfig\u001b[0m \u001b[1;32mimport\u001b[0m \u001b[0mapi_key\u001b[0m\u001b[1;33m\u001b[0m\u001b[1;33m\u001b[0m\u001b[0m\n\u001b[0;32m      4\u001b[0m \u001b[1;32mimport\u001b[0m \u001b[0mjson\u001b[0m\u001b[1;33m\u001b[0m\u001b[1;33m\u001b[0m\u001b[0m\n\u001b[1;32m----> 5\u001b[1;33m \u001b[1;32mimport\u001b[0m \u001b[0mpyOWM\u001b[0m\u001b[1;33m\u001b[0m\u001b[1;33m\u001b[0m\u001b[0m\n\u001b[0m",
      "\u001b[1;31mModuleNotFoundError\u001b[0m: No module named 'pyOWM'"
     ]
    }
   ],
   "source": [
    "# Dependencies\n",
    "import requests\n",
    "from config import api_key\n",
    "import json\n",
    "import pyOWM"
   ]
  },
  {
   "cell_type": "code",
   "execution_count": 9,
   "metadata": {},
   "outputs": [],
   "source": [
    "# Build query URL and request your results in Celsius\n",
    "endpoint = \"https://api.openweathermap.org/data/2.5/weather?\"\n",
    "city = \"Bujumbura\"\n",
    "query_url = endpoint + \"q=\"+city+\"&appid=39d2e7b8c7d8a3a7cb3366bd0ae60aee\"\n",
    "# Get weather data\n",
    "weather_json = requests.get(query_url).json()"
   ]
  },
  {
   "cell_type": "code",
   "execution_count": 14,
   "metadata": {},
   "outputs": [
    {
     "name": "stdout",
     "output_type": "stream",
     "text": [
      "{\n",
      " \"coord\": {\n",
      "  \"lon\": 29.37,\n",
      "  \"lat\": -3.36\n",
      " },\n",
      " \"weather\": [\n",
      "  {\n",
      "   \"id\": 500,\n",
      "   \"main\": \"Rain\",\n",
      "   \"description\": \"light rain\",\n",
      "   \"icon\": \"10d\"\n",
      "  }\n",
      " ],\n",
      " \"base\": \"model\",\n",
      " \"main\": {\n",
      "  \"temp\": 294.26,\n",
      "  \"pressure\": 1014,\n",
      "  \"humidity\": 64,\n",
      "  \"temp_min\": 294.26,\n",
      "  \"temp_max\": 294.26,\n",
      "  \"sea_level\": 1014,\n",
      "  \"grnd_level\": 809\n",
      " },\n",
      " \"wind\": {\n",
      "  \"speed\": 2.56,\n",
      "  \"deg\": 90\n",
      " },\n",
      " \"rain\": {\n",
      "  \"3h\": 0.19\n",
      " },\n",
      " \"clouds\": {\n",
      "  \"all\": 5\n",
      " },\n",
      " \"dt\": 1572683906,\n",
      " \"sys\": {\n",
      "  \"country\": \"BI\",\n",
      "  \"sunrise\": 1572665945,\n",
      "  \"sunset\": 1572709979\n",
      " },\n",
      " \"timezone\": 7200,\n",
      " \"id\": 425378,\n",
      " \"name\": \"Bujumbura\",\n",
      " \"cod\": 200\n",
      "}\n"
     ]
    }
   ],
   "source": [
    "print(json.dumps(weather_json,indent = 1))"
   ]
  },
  {
   "cell_type": "code",
   "execution_count": 16,
   "metadata": {},
   "outputs": [
    {
     "data": {
      "text/plain": [
       "294.26"
      ]
     },
     "execution_count": 16,
     "metadata": {},
     "output_type": "execute_result"
    }
   ],
   "source": [
    "# Get temperature from JSON response\n",
    "weather_json[\"main\"][\"temp\"]"
   ]
  },
  {
   "cell_type": "code",
   "execution_count": 4,
   "metadata": {},
   "outputs": [
    {
     "name": "stdout",
     "output_type": "stream",
     "text": [
      "Requirement already satisfied: pyOWM in g:\\anaconda3\\lib\\site-packages (2.10.0)\n",
      "Requirement already satisfied: geojson<3,>=2.3.0 in g:\\anaconda3\\lib\\site-packages (from pyOWM) (2.5.0)\n",
      "Requirement already satisfied: requests<3,>=2.20.0 in g:\\anaconda3\\lib\\site-packages (from pyOWM) (2.22.0)\n",
      "Requirement already satisfied: idna<2.9,>=2.5 in g:\\anaconda3\\lib\\site-packages (from requests<3,>=2.20.0->pyOWM) (2.8)\n",
      "Requirement already satisfied: urllib3!=1.25.0,!=1.25.1,<1.26,>=1.21.1 in g:\\anaconda3\\lib\\site-packages (from requests<3,>=2.20.0->pyOWM) (1.24.2)\n",
      "Requirement already satisfied: certifi>=2017.4.17 in g:\\anaconda3\\lib\\site-packages (from requests<3,>=2.20.0->pyOWM) (2019.6.16)\n",
      "Requirement already satisfied: chardet<3.1.0,>=3.0.2 in g:\\anaconda3\\lib\\site-packages (from requests<3,>=2.20.0->pyOWM) (3.0.4)\n"
     ]
    }
   ],
   "source": [
    "# Report temperature\n",
    "!pip install pyOWM"
   ]
  },
  {
   "cell_type": "code",
   "execution_count": null,
   "metadata": {},
   "outputs": [],
   "source": []
  }
 ],
 "metadata": {
  "kernelspec": {
   "display_name": "Python 3",
   "language": "python",
   "name": "python3"
  },
  "language_info": {
   "codemirror_mode": {
    "name": "ipython",
    "version": 3
   },
   "file_extension": ".py",
   "mimetype": "text/x-python",
   "name": "python",
   "nbconvert_exporter": "python",
   "pygments_lexer": "ipython3",
   "version": "3.7.3"
  },
  "varInspector": {
   "cols": {
    "lenName": 16,
    "lenType": 16,
    "lenVar": 40
   },
   "kernels_config": {
    "python": {
     "delete_cmd_postfix": "",
     "delete_cmd_prefix": "del ",
     "library": "var_list.py",
     "varRefreshCmd": "print(var_dic_list())"
    },
    "r": {
     "delete_cmd_postfix": ") ",
     "delete_cmd_prefix": "rm(",
     "library": "var_list.r",
     "varRefreshCmd": "cat(var_dic_list()) "
    }
   },
   "types_to_exclude": [
    "module",
    "function",
    "builtin_function_or_method",
    "instance",
    "_Feature"
   ],
   "window_display": false
  }
 },
 "nbformat": 4,
 "nbformat_minor": 2
}
